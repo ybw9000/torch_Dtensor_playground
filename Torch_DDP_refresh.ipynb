{
  "nbformat": 4,
  "nbformat_minor": 0,
  "metadata": {
    "colab": {
      "provenance": [],
      "authorship_tag": "ABX9TyMncGRqSJqMU7uFWGceb1QE",
      "include_colab_link": true
    },
    "kernelspec": {
      "name": "python3",
      "display_name": "Python 3"
    },
    "language_info": {
      "name": "python"
    }
  },
  "cells": [
    {
      "cell_type": "markdown",
      "metadata": {
        "id": "view-in-github",
        "colab_type": "text"
      },
      "source": [
        "<a href=\"https://colab.research.google.com/github/ybw9000/torch_Dtensor_playground/blob/main/Torch_DDP_refresh.ipynb\" target=\"_parent\"><img src=\"https://colab.research.google.com/assets/colab-badge.svg\" alt=\"Open In Colab\"/></a>"
      ]
    },
    {
      "cell_type": "code",
      "execution_count": 1,
      "metadata": {
        "id": "Kl-S1pfDXouX"
      },
      "outputs": [],
      "source": [
        "import torch\n",
        "import torch.nn as nn\n",
        "import torch.functional as F"
      ]
    },
    {
      "cell_type": "code",
      "source": [
        "class LogReg(nn.Module):\n",
        "    def __init__(self, input_dim, output_dim):\n",
        "      super().__init__()\n",
        "      self.linear = nn.Linear(input_dim, output_dim)\n",
        "      self.ce = nn.CrossEntropyLoss()\n",
        "\n",
        "    def forward(self, x, label):\n",
        "      out = self.linear(x)\n",
        "      loss = self.ce(out, label)\n",
        "      return out, loss"
      ],
      "metadata": {
        "id": "Tt9PIElmXzpH"
      },
      "execution_count": 2,
      "outputs": []
    },
    {
      "cell_type": "code",
      "source": [
        "# prompt: create a minst dataset in torch\n",
        "from torchvision import datasets, transforms\n",
        "\n",
        "# Create MNIST dataset and dataloader\n",
        "transform=transforms.Compose([\n",
        "        transforms.ToTensor(),\n",
        "        transforms.Normalize((0.1307,), (0.3081,))\n",
        "        ])\n",
        "\n",
        "train_data = datasets.MNIST('../data', train=True, download=True, transform=transform)\n",
        "test_data = datasets.MNIST('../data', train=False, transform=transform)\n",
        "\n",
        "\n",
        "train_loader = torch.utils.data.DataLoader(train_data, batch_size=64, shuffle=True)\n",
        "test_loader = torch.utils.data.DataLoader(test_data, batch_size=1000, shuffle=True)\n",
        "\n",
        "\n",
        "# Example usage (optional):\n",
        "# input_dim = 784  # 28x28 image\n",
        "# output_dim = 10  # 10 classes (0-9)\n",
        "# model = LogReg(input_dim, output_dim)"
      ],
      "metadata": {
        "colab": {
          "base_uri": "https://localhost:8080/"
        },
        "id": "OPL8xHRHX8RL",
        "outputId": "798d27b4-09d8-4381-c77a-b09710e64f6f"
      },
      "execution_count": 3,
      "outputs": [
        {
          "output_type": "stream",
          "name": "stdout",
          "text": [
            "Downloading http://yann.lecun.com/exdb/mnist/train-images-idx3-ubyte.gz\n",
            "Failed to download (trying next):\n",
            "HTTP Error 403: Forbidden\n",
            "\n",
            "Downloading https://ossci-datasets.s3.amazonaws.com/mnist/train-images-idx3-ubyte.gz\n",
            "Downloading https://ossci-datasets.s3.amazonaws.com/mnist/train-images-idx3-ubyte.gz to ../data/MNIST/raw/train-images-idx3-ubyte.gz\n"
          ]
        },
        {
          "output_type": "stream",
          "name": "stderr",
          "text": [
            "100%|██████████| 9.91M/9.91M [00:00<00:00, 158MB/s]"
          ]
        },
        {
          "output_type": "stream",
          "name": "stdout",
          "text": [
            "Extracting ../data/MNIST/raw/train-images-idx3-ubyte.gz to ../data/MNIST/raw\n"
          ]
        },
        {
          "output_type": "stream",
          "name": "stderr",
          "text": [
            "\n"
          ]
        },
        {
          "output_type": "stream",
          "name": "stdout",
          "text": [
            "\n",
            "Downloading http://yann.lecun.com/exdb/mnist/train-labels-idx1-ubyte.gz\n",
            "Failed to download (trying next):\n",
            "HTTP Error 403: Forbidden\n",
            "\n",
            "Downloading https://ossci-datasets.s3.amazonaws.com/mnist/train-labels-idx1-ubyte.gz\n",
            "Downloading https://ossci-datasets.s3.amazonaws.com/mnist/train-labels-idx1-ubyte.gz to ../data/MNIST/raw/train-labels-idx1-ubyte.gz\n"
          ]
        },
        {
          "output_type": "stream",
          "name": "stderr",
          "text": [
            "100%|██████████| 28.9k/28.9k [00:00<00:00, 14.8MB/s]"
          ]
        },
        {
          "output_type": "stream",
          "name": "stdout",
          "text": [
            "Extracting ../data/MNIST/raw/train-labels-idx1-ubyte.gz to ../data/MNIST/raw\n",
            "\n",
            "Downloading http://yann.lecun.com/exdb/mnist/t10k-images-idx3-ubyte.gz\n"
          ]
        },
        {
          "output_type": "stream",
          "name": "stderr",
          "text": [
            "\n"
          ]
        },
        {
          "output_type": "stream",
          "name": "stdout",
          "text": [
            "Failed to download (trying next):\n",
            "HTTP Error 403: Forbidden\n",
            "\n",
            "Downloading https://ossci-datasets.s3.amazonaws.com/mnist/t10k-images-idx3-ubyte.gz\n",
            "Downloading https://ossci-datasets.s3.amazonaws.com/mnist/t10k-images-idx3-ubyte.gz to ../data/MNIST/raw/t10k-images-idx3-ubyte.gz\n"
          ]
        },
        {
          "output_type": "stream",
          "name": "stderr",
          "text": [
            "100%|██████████| 1.65M/1.65M [00:00<00:00, 95.8MB/s]\n"
          ]
        },
        {
          "output_type": "stream",
          "name": "stdout",
          "text": [
            "Extracting ../data/MNIST/raw/t10k-images-idx3-ubyte.gz to ../data/MNIST/raw\n",
            "\n",
            "Downloading http://yann.lecun.com/exdb/mnist/t10k-labels-idx1-ubyte.gz\n",
            "Failed to download (trying next):\n",
            "HTTP Error 403: Forbidden\n",
            "\n",
            "Downloading https://ossci-datasets.s3.amazonaws.com/mnist/t10k-labels-idx1-ubyte.gz\n",
            "Downloading https://ossci-datasets.s3.amazonaws.com/mnist/t10k-labels-idx1-ubyte.gz to ../data/MNIST/raw/t10k-labels-idx1-ubyte.gz\n"
          ]
        },
        {
          "output_type": "stream",
          "name": "stderr",
          "text": [
            "100%|██████████| 4.54k/4.54k [00:00<00:00, 1.73MB/s]"
          ]
        },
        {
          "output_type": "stream",
          "name": "stdout",
          "text": [
            "Extracting ../data/MNIST/raw/t10k-labels-idx1-ubyte.gz to ../data/MNIST/raw\n",
            "\n"
          ]
        },
        {
          "output_type": "stream",
          "name": "stderr",
          "text": [
            "\n"
          ]
        }
      ]
    },
    {
      "cell_type": "code",
      "source": [
        "model = LogReg(784, 10)\n",
        "optimizer = torch.optim.SGD(model.parameters(), lr=0.001)"
      ],
      "metadata": {
        "id": "yfDRypFjZySS"
      },
      "execution_count": 4,
      "outputs": []
    },
    {
      "cell_type": "code",
      "source": [
        "import matplotlib.pyplot as plt\n",
        "\n",
        "losses = []\n",
        "for data, target in train_loader:\n",
        "    logits, loss = model(data.reshape(data.shape[0], -1), target)\n",
        "    optimizer.zero_grad()\n",
        "    loss.backward()\n",
        "    optimizer.step()\n",
        "    losses.append(loss.item())\n",
        "plt.plot(losses)\n",
        "plt.show()"
      ],
      "metadata": {
        "colab": {
          "base_uri": "https://localhost:8080/",
          "height": 430
        },
        "id": "GW3YOvQGbZQL",
        "outputId": "de8490d7-94fd-46c2-bffb-cf0ae8627f3a"
      },
      "execution_count": 6,
      "outputs": [
        {
          "output_type": "display_data",
          "data": {
            "text/plain": [
              "<Figure size 640x480 with 1 Axes>"
            ],
            "image/png": "[encoded data removed]"
          },
          "metadata": {}
        }
      ]
    },
    {
      "cell_type": "code",
      "source": [
        "import torch.multiprocessing as mp\n",
        "import torch.distributed as dist\n",
        "\n",
        "def setup_device(rank, world_size):\n",
        "    # Device setup\n",
        "    os.environ[\"MASTER_ADDR\"] = \"localhost\"\n",
        "    os.environ[\"MASTER_PORT\"] = \"56492\"\n",
        "    torch.distributed.init_process_group(\n",
        "        backend=\"gloo\",\n",
        "        init_method=\"env://\",\n",
        "        world_size=world_size,\n",
        "        rank=rank,\n",
        "    )\n",
        "\n",
        "# Define the training function for each process\n",
        "def train(rank, world_size, model, train_loader, optimizer, epochs):\n",
        "\n",
        "    # NOTE DP is only within a node, there is no synchronization/ccl between nodes/hosts\n",
        "    # Wrap the model with DataParallel\n",
        "    model = nn.DataParallel(model, device_ids=[rank])\n",
        "\n",
        "    # Training loop\n",
        "    for epoch in range(epochs):\n",
        "        for batch_idx, (data, target) in enumerate(train_loader):\n",
        "            logits, loss = model(data.reshape(data.shape[0], -1), target)\n",
        "            optimizer.zero_grad()\n",
        "            loss.backward()\n",
        "            optimizer.step()\n",
        "\n",
        "            if batch_idx % 10 == 0 and rank == 0:  # Print from rank 0 only\n",
        "                print(\n",
        "                    f\"Train Epoch: {epoch + 1} ({100. * batch_idx / len(train_loader):.0f}%)]\\tLoss: {loss.item():.6f}\"\n",
        "                )"
      ],
      "metadata": {
        "id": "Bh-hehJUcsi3"
      },
      "execution_count": 20,
      "outputs": []
    },
    {
      "cell_type": "code",
      "source": [
        "world_size = 2\n",
        "mp.start_processes(train, args=(world_size, model, train_loader, optimizer, 1), nprocs=world_size, join=True, start_method='fork')"
      ],
      "metadata": {
        "id": "9XDwH2MFnQhp"
      },
      "execution_count": null,
      "outputs": []
    },
    {
      "cell_type": "markdown",
      "source": [
        "How does torch DDP works:\n",
        "1. parameters are bucketized to improve CCL efficiency during construction\n",
        "2. each parameter has hook registered to notify the Reducer gradient is ready\n",
        "3. A reducer, potentially in a different thread or CUDA stream triggers all-reduce of a bucket when all gradients in the bucket is ready so that all-reduce is overlapped with backprop\n",
        "4. the all-reduced gradients are mean averaged"
      ],
      "metadata": {
        "id": "XciQdlxntPxh"
      }
    },
    {
      "cell_type": "code",
      "source": [
        "import os\n",
        "\n",
        "\n",
        "def cleanup():\n",
        "    torch.distributed.destroy_process_group()\n",
        "\n",
        "\n",
        "def prepare_dataloader(dataset, rank, world_size, batch_size):\n",
        "    sampler = torch.utils.data.distributed.DistributedSampler(\n",
        "        dataset,\n",
        "        num_replicas=world_size,\n",
        "        rank=rank,\n",
        "        shuffle=False,\n",
        "    )\n",
        "    dataloader = torch.utils.data.DataLoader(\n",
        "        dataset,\n",
        "        sampler=sampler,\n",
        "        batch_size=batch_size,\n",
        "        shuffle=False,\n",
        "    )\n",
        "    return dataloader\n",
        "\n",
        "\n",
        "def get_dataset():\n",
        "    transform = transforms.Compose(\n",
        "        [transforms.ToTensor(), transforms.Normalize((0.1307,), (0.3081,)), lambda x: x.reshape(x.shape[0], -1)]\n",
        "    )\n",
        "    return datasets.MNIST('../data', train=True, download=True, transform=transform)\n",
        "\n",
        "def get_model():\n",
        "    return LogReg(784, 10)\n",
        "\n",
        "def train(rank, model, train_loader, optimizer, epochs):\n",
        "    # Training loop\n",
        "    for epoch in range(epochs):\n",
        "        for batch_idx, (data, target) in enumerate(train_loader):\n",
        "            logits, loss = model(data.reshape(data.shape[0], -1), target)\n",
        "            optimizer.zero_grad()\n",
        "            loss.backward()\n",
        "            optimizer.step()\n",
        "\n",
        "            if batch_idx % 20 == 0 and rank == 0:\n",
        "                print(\n",
        "                    f\"Rank: {rank} Train Epoch: {epoch + 1} ({100. * batch_idx / len(train_loader):.0f}%)]\\tLoss: {loss.item():.6f}\"\n",
        "                )\n",
        "\n",
        "def per_device_launch_fn(rank, world_size):\n",
        "    # Setup the process groups\n",
        "    print(f'rank: {rank}')\n",
        "    setup_device(rank, world_size)\n",
        "\n",
        "    dataset = get_dataset()\n",
        "    model = get_model()\n",
        "    # print(f'rank: {rank}: ', model.linear.weight[:, 0])\n",
        "    # prepare the dataloader\n",
        "    dataloader = prepare_dataloader(dataset, rank, world_size, 64)\n",
        "\n",
        "    # Instantiate the torch optimizer\n",
        "    optimizer = torch.optim.Adam(model.parameters(), lr=1e-3)\n",
        "\n",
        "    ddp_model = nn.parallel.DistributedDataParallel(model)\n",
        "\n",
        "    train(rank, ddp_model, dataloader, optimizer, 1)\n",
        "\n",
        "    print(f'rank: {rank}: ', model.linear.weight[:, 0])\n",
        "\n",
        "    cleanup()"
      ],
      "metadata": {
        "id": "3vYQGWgt-Ex7"
      },
      "execution_count": 6,
      "outputs": []
    },
    {
      "cell_type": "code",
      "source": [
        "world_size = 2\n",
        "mp.start_processes(per_device_launch_fn, args=(world_size, ), nprocs=world_size, join=True, start_method='fork')"
      ],
      "metadata": {
        "colab": {
          "base_uri": "https://localhost:8080/"
        },
        "id": "oE7b4w8kBrJZ",
        "outputId": "e62efc80-d164-4192-9cc9-7505cb9cc48e"
      },
      "execution_count": 9,
      "outputs": [
        {
          "output_type": "stream",
          "name": "stdout",
          "text": [
            "rank: 0\n",
            "rank: 1\n",
            "Rank: 0 Train Epoch: 1 (0%)]\tLoss: 2.331101\n",
            "Rank: 0 Train Epoch: 1 (4%)]\tLoss: 1.029681\n",
            "Rank: 0 Train Epoch: 1 (9%)]\tLoss: 0.706301\n",
            "Rank: 0 Train Epoch: 1 (13%)]\tLoss: 0.563240\n",
            "Rank: 0 Train Epoch: 1 (17%)]\tLoss: 0.494795\n",
            "Rank: 0 Train Epoch: 1 (21%)]\tLoss: 0.592477\n",
            "Rank: 0 Train Epoch: 1 (26%)]\tLoss: 0.538153\n",
            "Rank: 0 Train Epoch: 1 (30%)]\tLoss: 0.385307\n",
            "Rank: 0 Train Epoch: 1 (34%)]\tLoss: 0.482577\n",
            "Rank: 0 Train Epoch: 1 (38%)]\tLoss: 0.635776\n",
            "Rank: 0 Train Epoch: 1 (43%)]\tLoss: 0.452431\n",
            "Rank: 0 Train Epoch: 1 (47%)]\tLoss: 0.460883\n",
            "Rank: 0 Train Epoch: 1 (51%)]\tLoss: 0.553342\n",
            "Rank: 0 Train Epoch: 1 (55%)]\tLoss: 0.478324\n",
            "Rank: 0 Train Epoch: 1 (60%)]\tLoss: 0.334592\n",
            "Rank: 0 Train Epoch: 1 (64%)]\tLoss: 0.329434\n",
            "Rank: 0 Train Epoch: 1 (68%)]\tLoss: 0.612674\n",
            "Rank: 0 Train Epoch: 1 (72%)]\tLoss: 0.415299\n",
            "Rank: 0 Train Epoch: 1 (77%)]\tLoss: 0.496144\n",
            "Rank: 0 Train Epoch: 1 (81%)]\tLoss: 0.322597\n",
            "Rank: 0 Train Epoch: 1 (85%)]\tLoss: 0.585016\n",
            "Rank: 0 Train Epoch: 1 (90%)]\tLoss: 0.500904\n",
            "Rank: 0 Train Epoch: 1 (94%)]\tLoss: 0.269619\n",
            "Rank: 0 Train Epoch: 1 (98%)]\tLoss: 0.095764\n",
            "rank: 0: rank: 1:   tensor([-0.0278, -0.0105, -0.0354, -0.0224,  0.0343, -0.0017, -0.0312,  0.0244,\n",
            "         0.0382,  0.0287], grad_fn=<SelectBackward0>)tensor([-0.0278, -0.0105, -0.0354, -0.0224,  0.0343, -0.0017, -0.0312,  0.0244,\n",
            "         0.0382,  0.0287], grad_fn=<SelectBackward0>)\n",
            "\n"
          ]
        }
      ]
    },
    {
      "cell_type": "code",
      "source": [
        "from functools import partial\n",
        "\n",
        "def all_reduce_hook(tensor: torch.Tensor, is_async, handlers):\n",
        "    tensor.grad /= dist.get_world_size()\n",
        "    handle = dist.all_reduce(tensor.grad, op=dist.ReduceOp.SUM, async_op=is_async)\n",
        "    if is_async:\n",
        "        handlers.append(handle)\n",
        "    return\n",
        "\n",
        "\n",
        "def register_all_reduce(model: nn.Module, is_async=False):\n",
        "    model.handlers = []\n",
        "    for param in model.parameters():\n",
        "        param.register_post_accumulate_grad_hook(partial(all_reduce_hook, is_async=is_async, handlers=model.handlers))\n",
        "    return model\n",
        "\n",
        "\n",
        "def custom_train(rank, model, train_loader, optimizer, epochs):\n",
        "    # Training loop\n",
        "    for epoch in range(epochs):\n",
        "        for batch_idx, (data, target) in enumerate(train_loader):\n",
        "            logits, loss = model(data.reshape(data.shape[0], -1), target)\n",
        "            optimizer.zero_grad()\n",
        "            loss.backward()\n",
        "            if model.handlers:\n",
        "                if rank == 0:\n",
        "                    assert len(model.handlers) == 2\n",
        "                while model.handlers:\n",
        "                    handle = model.handlers.pop()\n",
        "                    handle.wait()\n",
        "            optimizer.step()\n",
        "\n",
        "            if batch_idx % 20 == 0 and rank == 0:\n",
        "                print(\n",
        "                    f\"Rank: {rank} Train Epoch: {epoch + 1} ({100. * batch_idx / len(train_loader):.0f}%)]\\tLoss: {loss.item():.6f}\"\n",
        "                )\n",
        "\n",
        "def custom_ddp(rank, world_size, is_async=False):\n",
        "    # Setup the process groups\n",
        "    print(f'rank: {rank}')\n",
        "    setup_device(rank, world_size)\n",
        "\n",
        "    dataset = get_dataset()\n",
        "    model = get_model()\n",
        "    # print(f'rank: {rank}: ', model.linear.weight[:, 0])\n",
        "    # prepare the dataloader\n",
        "    dataloader = prepare_dataloader(dataset, rank, world_size, 64)\n",
        "\n",
        "    # Instantiate the torch optimizer\n",
        "    optimizer = torch.optim.Adam(model.parameters(), lr=1e-3)\n",
        "\n",
        "    # custom ddp module\n",
        "    ddp_model = register_all_reduce(model, is_async)\n",
        "\n",
        "    custom_train(rank, ddp_model, dataloader, optimizer, 1)\n",
        "\n",
        "    print(f'rank: {rank}: ', model.linear.weight[:, 0])\n",
        "\n",
        "    cleanup()"
      ],
      "metadata": {
        "id": "ZzdkwS_ADIYQ"
      },
      "execution_count": 18,
      "outputs": []
    },
    {
      "cell_type": "code",
      "source": [
        "world_size = 2\n",
        "mp.start_processes(custom_ddp, args=(world_size, False), nprocs=world_size, join=True, start_method='fork')"
      ],
      "metadata": {
        "colab": {
          "base_uri": "https://localhost:8080/"
        },
        "id": "2M4ZnO3Em6qt",
        "outputId": "dfdae1bd-cebc-4cfc-fb91-c46af804a827"
      },
      "execution_count": 10,
      "outputs": [
        {
          "output_type": "stream",
          "name": "stdout",
          "text": [
            "rank: 0\n",
            "rank: 1\n",
            "Rank: 0 Train Epoch: 1 (0%)]\tLoss: 2.281228\n",
            "Rank: 0 Train Epoch: 1 (4%)]\tLoss: 1.071415\n",
            "Rank: 0 Train Epoch: 1 (9%)]\tLoss: 0.755433\n",
            "Rank: 0 Train Epoch: 1 (13%)]\tLoss: 0.546762\n",
            "Rank: 0 Train Epoch: 1 (17%)]\tLoss: 0.524841\n",
            "Rank: 0 Train Epoch: 1 (21%)]\tLoss: 0.584568\n",
            "Rank: 0 Train Epoch: 1 (26%)]\tLoss: 0.564068\n",
            "Rank: 0 Train Epoch: 1 (30%)]\tLoss: 0.388065\n",
            "Rank: 0 Train Epoch: 1 (34%)]\tLoss: 0.492311\n",
            "Rank: 0 Train Epoch: 1 (38%)]\tLoss: 0.643926\n",
            "Rank: 0 Train Epoch: 1 (43%)]\tLoss: 0.443390\n",
            "Rank: 0 Train Epoch: 1 (47%)]\tLoss: 0.451834\n",
            "Rank: 0 Train Epoch: 1 (51%)]\tLoss: 0.561603\n",
            "Rank: 0 Train Epoch: 1 (55%)]\tLoss: 0.475236\n",
            "Rank: 0 Train Epoch: 1 (60%)]\tLoss: 0.362908\n",
            "Rank: 0 Train Epoch: 1 (64%)]\tLoss: 0.339300\n",
            "Rank: 0 Train Epoch: 1 (68%)]\tLoss: 0.603142\n",
            "Rank: 0 Train Epoch: 1 (72%)]\tLoss: 0.420754\n",
            "Rank: 0 Train Epoch: 1 (77%)]\tLoss: 0.484416\n",
            "Rank: 0 Train Epoch: 1 (81%)]\tLoss: 0.331349\n",
            "Rank: 0 Train Epoch: 1 (85%)]\tLoss: 0.573214\n",
            "Rank: 0 Train Epoch: 1 (90%)]\tLoss: 0.495249\n",
            "Rank: 0 Train Epoch: 1 (94%)]\tLoss: 0.266392\n",
            "Rank: 0 Train Epoch: 1 (98%)]\tLoss: 0.093707\n",
            "rank: 0:  rank: 1:  tensor([ 0.0263, -0.0161, -0.0382,  0.0270,  0.0033,  0.0167,  0.0120,  0.0062,\n",
            "         0.0211,  0.0072], grad_fn=<SelectBackward0>)tensor([ 0.0263, -0.0161, -0.0382,  0.0270,  0.0033,  0.0167,  0.0120,  0.0062,\n",
            "         0.0211,  0.0072], grad_fn=<SelectBackward0>)\n",
            "\n"
          ]
        }
      ]
    },
    {
      "cell_type": "code",
      "source": [
        "world_size = 2\n",
        "mp.start_processes(custom_ddp, args=(world_size, True), nprocs=world_size, join=True, start_method='fork')"
      ],
      "metadata": {
        "colab": {
          "base_uri": "https://localhost:8080/"
        },
        "id": "N9ZHfilrm9JI",
        "outputId": "f3e82860-11a8-4e74-ca6a-f1b4771aa031"
      },
      "execution_count": 19,
      "outputs": [
        {
          "output_type": "stream",
          "name": "stdout",
          "text": [
            "rank: 0\n",
            "rank: 1\n",
            "Rank: 0 Train Epoch: 1 (0%)]\tLoss: 2.281228\n",
            "Rank: 0 Train Epoch: 1 (4%)]\tLoss: 1.071415\n",
            "Rank: 0 Train Epoch: 1 (9%)]\tLoss: 0.755433\n",
            "Rank: 0 Train Epoch: 1 (13%)]\tLoss: 0.546762\n",
            "Rank: 0 Train Epoch: 1 (17%)]\tLoss: 0.524841\n",
            "Rank: 0 Train Epoch: 1 (21%)]\tLoss: 0.584568\n",
            "Rank: 0 Train Epoch: 1 (26%)]\tLoss: 0.564068\n",
            "Rank: 0 Train Epoch: 1 (30%)]\tLoss: 0.388065\n",
            "Rank: 0 Train Epoch: 1 (34%)]\tLoss: 0.492311\n",
            "Rank: 0 Train Epoch: 1 (38%)]\tLoss: 0.643926\n",
            "Rank: 0 Train Epoch: 1 (43%)]\tLoss: 0.443390\n",
            "Rank: 0 Train Epoch: 1 (47%)]\tLoss: 0.451834\n",
            "Rank: 0 Train Epoch: 1 (51%)]\tLoss: 0.561603\n",
            "Rank: 0 Train Epoch: 1 (55%)]\tLoss: 0.475236\n",
            "Rank: 0 Train Epoch: 1 (60%)]\tLoss: 0.362908\n",
            "Rank: 0 Train Epoch: 1 (64%)]\tLoss: 0.339300\n",
            "Rank: 0 Train Epoch: 1 (68%)]\tLoss: 0.603142\n",
            "Rank: 0 Train Epoch: 1 (72%)]\tLoss: 0.420754\n",
            "Rank: 0 Train Epoch: 1 (77%)]\tLoss: 0.484416\n",
            "Rank: 0 Train Epoch: 1 (81%)]\tLoss: 0.331349\n",
            "Rank: 0 Train Epoch: 1 (85%)]\tLoss: 0.573214\n",
            "Rank: 0 Train Epoch: 1 (90%)]\tLoss: 0.495249\n",
            "Rank: 0 Train Epoch: 1 (94%)]\tLoss: 0.266392\n",
            "Rank: 0 Train Epoch: 1 (98%)]\tLoss: 0.093707\n",
            "rank: 1: rank: 0:  tensor([ 0.0263, -0.0161, -0.0382,  0.0270,  0.0033,  0.0167,  0.0120,  0.0062,\n",
            "         0.0211,  0.0072], grad_fn=<SelectBackward0>)\n",
            " tensor([ 0.0263, -0.0161, -0.0382,  0.0270,  0.0033,  0.0167,  0.0120,  0.0062,\n",
            "         0.0211,  0.0072], grad_fn=<SelectBackward0>)\n"
          ]
        }
      ]
    },
    {
      "cell_type": "code",
      "source": [],
      "metadata": {
        "id": "l-ysadOwonRE"
      },
      "execution_count": null,
      "outputs": []
    }
  ]
}